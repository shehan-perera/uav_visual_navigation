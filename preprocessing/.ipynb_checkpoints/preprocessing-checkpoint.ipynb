{
 "cells": [
  {
   "cell_type": "markdown",
   "metadata": {},
   "source": [
    "#### USE THIS FILE TO PREPROCESS THE GOOGLE MAPS DATA"
   ]
  },
  {
   "cell_type": "code",
   "execution_count": null,
   "metadata": {},
   "outputs": [],
   "source": [
    "import os\n",
    "import pandas as pd\n",
    "import glob\n",
    "import shutil"
   ]
  },
  {
   "cell_type": "code",
   "execution_count": null,
   "metadata": {},
   "outputs": [],
   "source": [
    "class PreprocessData:\n",
    "    # should contain all the functions as static methods\n",
    "    @staticmethod\n",
    "    def split_category(data_path: str):\n",
    "        '''\n",
    "        args: \n",
    "            data_path [string] -- path to image data saved with google screenshot code\n",
    "        function:\n",
    "            finds the satellite data and the map data and returns 2 lists with the individual absolute filepaths\n",
    "        returns:\n",
    "            2 lists with map_fnames, satellite_fnames\n",
    "        interactions:\n",
    "            Can be called by itself or by move_files function\n",
    "        '''\n",
    "        get_fnames = lambda name=None, path=data_path: glob.glob(os.path.join(os.path.abspath(path), name))\n",
    "        return get_fnames('*-map-*.png'), get_fnames('*-sat-*.png')\n",
    "    \n",
    "    @staticmethod\n",
    "    def move_files(data_path: str, sat_save_dir: str=None, map_save_dir: str=None):\n",
    "        '''\n",
    "        args:\n",
    "            data_path [string] -- path to image data savd with goodle screenshot code\n",
    "            sat_save_dir [string] -- path to directory to save the satellite RGB images\n",
    "            map_save_dir [string] -- path to directory to save the map images\n",
    "        function:\n",
    "            takes the images from paths in the data_path and moves them to the specifies folders. \n",
    "            this is helpful if you want to move the images instead of just returning the filenames.\n",
    "        returns:\n",
    "            none\n",
    "        interactions:\n",
    "            None atm\n",
    "        '''\n",
    "        # get the absolute paths to map and satellite images\n",
    "        map_fnames, sat_fnames = PreprocessData.split_category(data_path)\n",
    "\n",
    "        # lambda function to move from soure to destination\n",
    "        move = lambda source, destination: shutil.move(source, os.path.join(os.path.abspath(destination), os.path.basename(source)))\n",
    "\n",
    "        # move map images\n",
    "        for fname in map_fnames:\n",
    "            move(fname, map_save_dir)\n",
    "\n",
    "        # move sat fnames\n",
    "        for fname in sat_fnames:\n",
    "            move(fname, sat_save_dir)\n",
    "            \n",
    "    @staticmethod\n",
    "    def create_data_csv(data_dir: str, csv_save_dir: str=None):\n",
    "        '''\n",
    "        args:\n",
    "            data_dir [str] -- path to the /data folder\n",
    "        function: \n",
    "            creates a csv, saves it in csv_save_dir and also returns the pandas DataFrame [sat_path, map_path]\n",
    "        returns:\n",
    "            pandas DataFrame \n",
    "        interactions: \n",
    "            None \n",
    "        '''\n",
    "        data_frame = pd.DataFrame({'sat_path': glob.glob(os.path.join(data_dir, 'sat_image_data/*.png')),\n",
    "                                   'map_path': glob.glob(os.path.join(data_dir, 'map_image_data/*.png'))})\n",
    "        \n",
    "        # save to path\n",
    "        if csv_save_dir:\n",
    "            data_frame.to_csv(csv_save_dir, columns=['sat_path', 'map_path'])\n",
    "            \n",
    "        return data_frame\n",
    "    \n",
    "    \n",
    "    '''Need static method for removing street words from map'''\n",
    "    \n",
    "    '''Need static method for rempving building numbers '''\n",
    "    \n",
    "    '''Maybe need a method for converting into a segmentation map'''"
   ]
  },
  {
   "cell_type": "code",
   "execution_count": null,
   "metadata": {},
   "outputs": [],
   "source": [
    "# # path to data folder\n",
    "# data_path = '../data/maps_data/'"
   ]
  },
  {
   "cell_type": "code",
   "execution_count": null,
   "metadata": {},
   "outputs": [],
   "source": [
    "# x,y = PreprocessData.split_category(data_path)"
   ]
  },
  {
   "cell_type": "code",
   "execution_count": null,
   "metadata": {},
   "outputs": [],
   "source": [
    "# PreprocessData.move_files(data_path, sat_save_dir='../data/sat_image_data/', map_save_dir='../data/map_image_data/')"
   ]
  },
  {
   "cell_type": "code",
   "execution_count": null,
   "metadata": {},
   "outputs": [],
   "source": [
    "# h = PreprocessData.create_data_csv('../data/')"
   ]
  },
  {
   "cell_type": "code",
   "execution_count": null,
   "metadata": {},
   "outputs": [],
   "source": []
  }
 ],
 "metadata": {
  "kernelspec": {
   "display_name": "Python 3",
   "language": "python",
   "name": "python3"
  },
  "language_info": {
   "codemirror_mode": {
    "name": "ipython",
    "version": 3
   },
   "file_extension": ".py",
   "mimetype": "text/x-python",
   "name": "python",
   "nbconvert_exporter": "python",
   "pygments_lexer": "ipython3",
   "version": "3.6.10"
  }
 },
 "nbformat": 4,
 "nbformat_minor": 4
}
